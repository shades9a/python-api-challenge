{
 "cells": [
  {
   "cell_type": "code",
   "execution_count": 3,
   "metadata": {},
   "outputs": [],
   "source": [
    "import requests\n",
    "import json\n",
    "from config import api_key\n",
    "import numpy as np\n",
    "import matplotlib.pyplot as plt\n",
    "import pandas as pd\n",
    "import random"
   ]
  },
  {
   "cell_type": "code",
   "execution_count": 4,
   "metadata": {},
   "outputs": [],
   "source": [
    "from pprint import pprint"
   ]
  },
  {
   "cell_type": "code",
   "execution_count": 11,
   "metadata": {},
   "outputs": [],
   "source": [
    "query = \"Temperature\",\"Wind Speed\",\"Clouds\",\"Global Precipitation\""
   ]
  },
  {
   "cell_type": "code",
   "execution_count": 31,
   "metadata": {},
   "outputs": [],
   "source": [
    "base_url = \"https://openweathermap.org/weathermap?basemap=map&cities=true&layer=temperature&lat=30&lon=-20&zoom=5\"\n",
    "api_key = \"&appid=\" + api_key\n",
    "response = requests.get(base_url + api_key)"
   ]
  },
  {
   "cell_type": "code",
   "execution_count": 33,
   "metadata": {},
   "outputs": [],
   "source": [
    "#print(response.status_code)\n",
    "data = response.json()\n",
    "pprint(data)"
   ]
  },
  {
   "cell_type": "code",
   "execution_count": null,
   "metadata": {},
   "outputs": [],
   "source": [
    "#cordinates:\n",
    "lat = []\n",
    "long = []\n",
    "for points in cordinates:\n",
    "    response = requests.get(query)\n",
    "    lat.append(response[\"Cordinate\"][\"lat\"])\n",
    "    long.append(response[\"Cordinate\"][\"long\"])\n",
    "print(\"The latitude is: {lat}\")\n",
    "print(\"The longitude is: {long}\")"
   ]
  },
  {
   "cell_type": "code",
   "execution_count": null,
   "metadata": {},
   "outputs": [],
   "source": [
    "dict = {\n",
    "    \"temp\":temperature,\n",
    "    \"wind\":wind_speed,\n",
    "    \"cloud\":clouds,\n",
    "    \"rain\":global_precipitation\n",
    "}\n",
    "wdata = pd.DataFrame(dict)\n",
    "print(wdata)"
   ]
  },
  {
   "cell_type": "code",
   "execution_count": null,
   "metadata": {},
   "outputs": [],
   "source": [
    "coordsx = (np.random.rand(500, 2) * 2000)\n",
    "coordsy = (np.random.rand(500, 2) * 2000)\n",
    "plt.scatter(coordsx,coordsy)"
   ]
  }
 ],
 "metadata": {
  "kernelspec": {
   "display_name": "Python 3",
   "language": "python",
   "name": "python3"
  },
  "language_info": {
   "codemirror_mode": {
    "name": "ipython",
    "version": 3
   },
   "file_extension": ".py",
   "mimetype": "text/x-python",
   "name": "python",
   "nbconvert_exporter": "python",
   "pygments_lexer": "ipython3",
   "version": "3.8.5"
  }
 },
 "nbformat": 4,
 "nbformat_minor": 4
}
